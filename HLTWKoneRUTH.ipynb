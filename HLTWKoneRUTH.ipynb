{
 "metadata": {
  "language_info": {
   "codemirror_mode": {
    "name": "ipython",
    "version": 3
   },
   "file_extension": ".py",
   "mimetype": "text/x-python",
   "name": "python",
   "nbconvert_exporter": "python",
   "pygments_lexer": "ipython3",
   "version": "3.9.2-final"
  },
  "orig_nbformat": 2,
  "kernelspec": {
   "name": "python3",
   "display_name": "Python 3.9.2 64-bit",
   "metadata": {
    "interpreter": {
     "hash": "aee8b7b246df8f9039afb4144a1f6fd8d2ca17a180786b69acc140d282b71a49"
    }
   }
  }
 },
 "nbformat": 4,
 "nbformat_minor": 2,
 "cells": [
  {
   "cell_type": "code",
   "execution_count": 1,
   "metadata": {},
   "outputs": [
    {
     "output_type": "stream",
     "name": "stdout",
     "text": [
      "Hello, world\n"
     ]
    }
   ],
   "source": [
    "print(\"Hello, world\")\n"
   ]
  },
  {
   "cell_type": "code",
   "execution_count": 2,
   "metadata": {},
   "outputs": [],
   "source": [
    "import random"
   ]
  },
  {
   "cell_type": "code",
   "execution_count": 35,
   "metadata": {},
   "outputs": [],
   "source": [
    "random.randint\n",
    "number = (1,10)\n"
   ]
  },
  {
   "cell_type": "code",
   "execution_count": 18,
   "metadata": {},
   "outputs": [
    {
     "output_type": "stream",
     "name": "stdout",
     "text": [
      "well sara I am thinking of number between 1 and 10\n"
     ]
    }
   ],
   "source": [
    "my_name = input(\" Hello!, What is your name\")\n",
    "print(\"well\",  my_name + \" \" + \"I am thinking of number between 1 and 10\")"
   ]
  },
  {
   "cell_type": "code",
   "execution_count": 40,
   "metadata": {},
   "outputs": [
    {
     "output_type": "stream",
     "name": "stdout",
     "text": [
      "Wrong, better luck next time\n"
     ]
    }
   ],
   "source": [
    "guess= input('take a quess less than 10')\n",
    "if guess == number:\n",
    "    print(\"Good job,\" + my_name + \"!You guessed my number\")\n",
    "else:\n",
    "    print(\"Wrong, better luck next time\")"
   ]
  },
  {
   "cell_type": "code",
   "execution_count": 62,
   "metadata": {},
   "outputs": [
    {
     "output_type": "stream",
     "name": "stdout",
     "text": [
      "Why do seagulls fly over the sea? If they flew over the bay, they would be bagels.\n"
     ]
    }
   ],
   "source": [
    "guessgame = random.randint(1,100)\n",
    "quess = input(\"a guess for a joke\")\n",
    "\n",
    "if quess == guessgame:\n",
    "    print(\"What do you call a pig that does karate?\", \"A pork chop\")\n",
    "elif quess == guessgame:\n",
    "   print(\"What did the policeman say to his belly button\", \"You’re under a vest\")\n",
    "else:\n",
    "    print(\"Why do seagulls fly over the sea?\", \"If they flew over the bay, they would be bagels.\")"
   ]
  },
  {
   "cell_type": "code",
   "execution_count": 126,
   "metadata": {},
   "outputs": [
    {
     "output_type": "stream",
     "name": "stdout",
     "text": [
      "Your favourite meal is chicken mango salad and Lasagna, you like to finish your meal with Tiramisu and a glass of Chardonay\n"
     ]
    }
   ],
   "source": [
    "starter_meal = \"chicken mango salad\"\n",
    "main_course =  \"Lasagna\"\n",
    "dessert = \"Tiramisu\"\n",
    "drink =  \"a glass of Chardonay\"\n",
    "\n",
    "all_meals = starter_meal + \" \" +\"and \" + main_course\n",
    "\n",
    "dessert_meal =  dessert + \" \" +\"and \" + drink \n",
    "\n",
    "print('Your favourite meal is'+ \" \" + all_meals + \",\" + \" \" + 'you like to finish your meal with'+ \" \" + dessert_meal)\n"
   ]
  },
  {
   "cell_type": "code",
   "execution_count": 95,
   "metadata": {},
   "outputs": [],
   "source": [
    "motorbike = int(2000)\n",
    "reduced_by = float(0.10)"
   ]
  },
  {
   "cell_type": "code",
   "execution_count": 96,
   "metadata": {},
   "outputs": [],
   "source": [
    "while motorbike < 1000:\n",
    "      print(\"motorbike\")\n",
    "      motorbike / reduced_by\n",
    "      print('sale')"
   ]
  },
  {
   "cell_type": "code",
   "execution_count": 99,
   "metadata": {},
   "outputs": [],
   "source": [
    "import sys"
   ]
  },
  {
   "cell_type": "code",
   "execution_count": 165,
   "metadata": {},
   "outputs": [
    {
     "output_type": "stream",
     "name": "stdout",
     "text": [
      "Sorry, try again\n"
     ]
    }
   ],
   "source": [
    "choice = input(\" +,-,/,*,**\")\n",
    "\n",
    "number1 = input(\"pick a number\")\n",
    "number2 = input(\"pick a number\")\n",
    "\n",
    "\n",
    "if choice  == \"+\":\n",
    "    print(number1 + number2)\n",
    "elif choice == \"-\":\n",
    "    print(number1 - number2)\n",
    "elif choice == \"*\": \n",
    "   print(number1 * number2)\n",
    "elif choice == \"**\":\n",
    "    divide(number1 ** number2)\n",
    "else:\n",
    "    print(\"Sorry, try again\")\n",
    "\n"
   ]
  },
  {
   "cell_type": "code",
   "execution_count": null,
   "metadata": {},
   "outputs": [],
   "source": []
  }
 ]
}