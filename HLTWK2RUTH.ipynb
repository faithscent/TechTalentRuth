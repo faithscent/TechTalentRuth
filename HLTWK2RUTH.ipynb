{
 "metadata": {
  "language_info": {
   "codemirror_mode": {
    "name": "ipython",
    "version": 3
   },
   "file_extension": ".py",
   "mimetype": "text/x-python",
   "name": "python",
   "nbconvert_exporter": "python",
   "pygments_lexer": "ipython3",
   "version": "3.9.2-final"
  },
  "orig_nbformat": 2,
  "kernelspec": {
   "name": "python3",
   "display_name": "Python 3.9.2 64-bit",
   "metadata": {
    "interpreter": {
     "hash": "aee8b7b246df8f9039afb4144a1f6fd8d2ca17a180786b69acc140d282b71a49"
    }
   }
  }
 },
 "nbformat": 4,
 "nbformat_minor": 2,
 "cells": [
  {
   "cell_type": "code",
   "execution_count": 1,
   "metadata": {},
   "outputs": [
    {
     "output_type": "stream",
     "name": "stdout",
     "text": [
      "sale\n"
     ]
    }
   ],
   "source": [
    "def  reduced(number):\n",
    "    number = int(2000)\n",
    "    difference = float(0.10)\n",
    "    output =  number * difference\n",
    "    return output\n",
    "  \n",
    "motorbike = int(2000)\n",
    "while motorbike <= 1000:\n",
    "    reduced(motorbike)\n",
    "print('sale')"
   ]
  },
  {
   "cell_type": "code",
   "execution_count": 4,
   "metadata": {},
   "outputs": [
    {
     "output_type": "stream",
     "name": "stdout",
     "text": [
      "10\n"
     ]
    }
   ],
   "source": [
    "choice = input(\" +,-,/,*,**\")\n",
    "number1 = int(input('pick a number'))\n",
    "number2 = int(input('pick a number'))\n",
    "\n",
    "\n",
    "def cal(number1, number2 ):\n",
    "          if choice == \"+\":\n",
    "             total = (number1 + number2)\n",
    "             print(total)\n",
    "          elif choice == \"-\":\n",
    "             total = (number1 - number2)\n",
    "             print(total)\n",
    "          elif choice == \"*\": \n",
    "             total = (number1 *  number2)\n",
    "             print(total)\n",
    "          elif choice == (\"/\"): \n",
    "            total = (number1 /  number2)\n",
    "            print(total)\n",
    "          else:\n",
    "            total = (number1 **  number2)\n",
    "            print(total)\n",
    "\n",
    "cal(number1, number2)\n"
   ]
  },
  {
   "cell_type": "code",
   "execution_count": null,
   "metadata": {},
   "outputs": [],
   "source": []
  }
 ]
}